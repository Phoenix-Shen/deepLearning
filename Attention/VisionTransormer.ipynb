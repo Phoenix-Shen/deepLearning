{
 "cells": [
  {
   "attachments": {},
   "cell_type": "markdown",
   "metadata": {},
   "source": [
    "# Vision Transformers\n",
    "\n",
    "Along with Diffusion Models, the Vision Transformers are one of the most advaced models in computer vision.\n",
    "\n",
    "So, following the [medium site](\n",
    "https://medium.com/mlearning-ai/vision-transformers-from-scratch-pytorch-a-step-by-step-guide-96c3313c2e0c), I implemented VIT from scratch and trying to figure out how it works."
   ]
  },
  {
   "cell_type": "code",
   "execution_count": 1,
   "metadata": {},
   "outputs": [
    {
     "data": {
      "text/plain": [
       "<torch._C.Generator at 0x11f28bd0350>"
      ]
     },
     "execution_count": 1,
     "metadata": {},
     "output_type": "execute_result"
    }
   ],
   "source": [
    "# import a lot of things\n",
    "import torch as t\n",
    "import torch.nn as nn\n",
    "import torch.optim as optim\n",
    "import os\n",
    "from PIL import Image\n",
    "from torch.utils.data import Dataset,DataLoader\n",
    "from tqdm import tqdm, trange\n",
    "import numpy as np\n",
    "from torch import Tensor\n",
    "# Random seed\n",
    "np.random.seed(0)\n",
    "t.manual_seed(0)"
   ]
  },
  {
   "cell_type": "code",
   "execution_count": 2,
   "metadata": {},
   "outputs": [
    {
     "data": {
      "text/plain": [
       "'2.0.0+cu118'"
      ]
     },
     "execution_count": 2,
     "metadata": {},
     "output_type": "execute_result"
    }
   ],
   "source": [
    "t.__version__"
   ]
  },
  {
   "attachments": {},
   "cell_type": "markdown",
   "metadata": {},
   "source": [
    "## Let's begin to construct the VIT model\n",
    "\n",
    "input: images with shape [batch,channels,height,width]\n",
    "output: the logits of the classes"
   ]
  },
  {
   "cell_type": "code",
   "execution_count": 3,
   "metadata": {},
   "outputs": [],
   "source": [
    "class VisionTransformer(nn.Module):\n",
    "    def __init__(self, ) -> None:\n",
    "        super().__init__()\n",
    "    \n",
    "    def forward(self,x):\n",
    "        pass"
   ]
  },
  {
   "attachments": {},
   "cell_type": "markdown",
   "metadata": {},
   "source": [
    "### STEP 1: Squencify an image like as sentence.\n",
    "[batch,channels,height,width]->[batch,patches,patch_dim]\n",
    "\n",
    "$$\n",
    "[N,C,H,W] -> [N,P^2,C\\cdot\\frac{H}{P}\\cdot\\frac{W}{P}]\n",
    "$$"
   ]
  },
  {
   "cell_type": "code",
   "execution_count": 4,
   "metadata": {},
   "outputs": [],
   "source": [
    "def patchfy(images:t.Tensor,n_patches:int)->Tensor:\n",
    "    \n",
    "    n,c,h,w = images.shape\n",
    "    \n",
    "    assert h==w, \"Patchify method is implemented for square images only\"\n",
    "    \n",
    "    patches = t.zeros(n,n_patches**2,h*w*c//n_patches**2)\n",
    "    path_size = h//n_patches\n",
    "    \n",
    "    for idx,image in enumerate(images):\n",
    "        for i in range(n_patches):\n",
    "            for j in range(n_patches):\n",
    "                patch = image[:,i*path_size:(i+1)*path_size,j*path_size:(j+1)*path_size]\n",
    "                patches[idx,i*n_patches+j]=patch.flatten()\n",
    "    return patches"
   ]
  },
  {
   "cell_type": "code",
   "execution_count": 5,
   "metadata": {},
   "outputs": [
    {
     "name": "stdout",
     "output_type": "stream",
     "text": [
      "torch.Size([3, 64, 192])\n"
     ]
    }
   ],
   "source": [
    "#test\n",
    "images = t.randn((3,3,64,64))\n",
    "print(patchfy(images,8).shape)\n",
    "\n",
    "del images"
   ]
  },
  {
   "attachments": {},
   "cell_type": "markdown",
   "metadata": {},
   "source": [
    "Note: the `tensor.flatten` operation breaks the sequence order of the images."
   ]
  },
  {
   "cell_type": "code",
   "execution_count": 6,
   "metadata": {},
   "outputs": [],
   "source": [
    "class VisionTransformer(nn.Module):\n",
    "    def __init__(self,chw=(3,64,64),n_patches =8) -> None:\n",
    "        super().__init__()\n",
    "        self.chw = chw\n",
    "        self.n_patches = n_patches\n",
    "        \n",
    "        assert chw[1]%n_patches == 0\n",
    "        assert chw[2]%n_patches == 0\n",
    "        \n",
    "    def forward(self,images:Tensor):\n",
    "        patches = patchfy(images)\n",
    "        return (patches)"
   ]
  },
  {
   "attachments": {},
   "cell_type": "markdown",
   "metadata": {},
   "source": [
    "Transfer the features to hidden presentations with `nn.Linear` function"
   ]
  },
  {
   "cell_type": "code",
   "execution_count": 7,
   "metadata": {},
   "outputs": [],
   "source": [
    "class VisionTransformer(nn.Module):\n",
    "    def __init__(self,chw=(3,64,64),n_patches =8) -> None:\n",
    "        super().__init__()\n",
    "        self.chw = chw\n",
    "        self.n_patches = n_patches\n",
    "        \n",
    "        assert chw[1]%n_patches == 0\n",
    "        assert chw[2]%n_patches == 0\n",
    "        \n",
    "        self.patch_size = (chw[1]/n_patches,chw[2]/n_patches)\n",
    "        \n",
    "        self.input_d = int(chw[0]*self.patch_size[0]*self.patch_size[1])\n",
    "        self.linear_mapper = nn.Linear(self.input_d,self.hidden_d)\n",
    "        \n",
    "    def forward(self,images:Tensor):\n",
    "        # 1. [n,c,h,w] -> [n,p^2,chw/p^2]\n",
    "        patches = patchfy(images)\n",
    "        # 2. [n,p^2,chw/p^2] -> [n,p^2,h]\n",
    "        tokens = self.linear_mapper.forward(patches)\n",
    "        return (patches)"
   ]
  },
  {
   "attachments": {},
   "cell_type": "markdown",
   "metadata": {},
   "source": [
    "## STEP 2: Add the calssification token\n",
    "\n",
    "I have not figured out what this module is doing, "
   ]
  },
  {
   "cell_type": "code",
   "execution_count": 8,
   "metadata": {},
   "outputs": [],
   "source": [
    "class VisionTransformer(nn.Module):\n",
    "    def __init__(self,chw=(3,64,64),n_patches =8) -> None:\n",
    "        super().__init__()\n",
    "        self.chw = chw\n",
    "        self.n_patches = n_patches\n",
    "        \n",
    "        assert chw[1]%n_patches == 0\n",
    "        assert chw[2]%n_patches == 0\n",
    "        \n",
    "        self.patch_size = (chw[1]/n_patches,chw[2]/n_patches)\n",
    "        \n",
    "        self.input_d = int(chw[0]*self.patch_size[0]*self.patch_size[1])\n",
    "        self.linear_mapper = nn.Linear(self.input_d,self.hidden_d)\n",
    "        \n",
    "        self.class_token= nn.Parameter(t.rand(1,self.hidden_d))\n",
    "        \n",
    "    def forward(self,images:Tensor)->Tensor:\n",
    "        # 1. [n,c,h,w] -> [n,p^2,chw/p^2]\n",
    "        patches = patchfy(images)\n",
    "        # 2. [n,p^2,chw/p^2] -> [n,p^2,h]\n",
    "        tokens = self.linear_mapper.forward(patches)\n",
    "        # 3. [n,p^2,h] -> [n,p^2+1,h]\n",
    "        tokens = t.stack([t.vstack((self.class_token,tokens[i]))for i in range(len(tokens))])\n",
    "        return (patches)"
   ]
  },
  {
   "attachments": {},
   "cell_type": "markdown",
   "metadata": {},
   "source": [
    "# STEP 3: Positional Encoding\n",
    "positional_encoding is common in the vanilla Transformers\n",
    "\n",
    "It allows the model to capture the sequential order of a patch."
   ]
  },
  {
   "cell_type": "code",
   "execution_count": 9,
   "metadata": {},
   "outputs": [],
   "source": [
    "def get_positional_embeddings(sequence_length:int,d:int)->Tensor:\n",
    "    result = t.ones(sequence_length,d)\n",
    "    for i in range(sequence_length):\n",
    "        for j in range(d):\n",
    "            if j%2==0:\n",
    "                result[i][j] = np.sin(i / (10000 ** (j / d)))\n",
    "            else:\n",
    "                result[i][j] = np.cos(i/(10000**((j-1)/d)))\n",
    "    return result"
   ]
  },
  {
   "attachments": {},
   "cell_type": "markdown",
   "metadata": {},
   "source": [
    "Visualize positional encoding"
   ]
  },
  {
   "cell_type": "code",
   "execution_count": 10,
   "metadata": {},
   "outputs": [
    {
     "data": {
      "image/png": "[encoded data removed]",
      "text/plain": [
       "<Figure size 640x480 with 1 Axes>"
      ]
     },
     "metadata": {},
     "output_type": "display_data"
    }
   ],
   "source": [
    "%matplotlib inline\n",
    "import matplotlib.pyplot as plt\n",
    "\n",
    "plt.imshow(get_positional_embeddings(100,300),cmap=\"hot\",interpolation=\"nearest\")\n",
    "plt.xlabel(\"Hidden Dims\")\n",
    "plt.ylabel(\"Num Tokens\")\n",
    "plt.show()"
   ]
  },
  {
   "attachments": {},
   "cell_type": "markdown",
   "metadata": {},
   "source": [
    "Add PE to the model"
   ]
  },
  {
   "cell_type": "code",
   "execution_count": 11,
   "metadata": {},
   "outputs": [],
   "source": [
    "class VisionTransformer(nn.Module):\n",
    "    def __init__(self,chw=(3,64,64),n_patches =8) -> None:\n",
    "        super().__init__()\n",
    "        self.chw = chw\n",
    "        self.n_patches = n_patches\n",
    "        \n",
    "        assert chw[1]%n_patches == 0\n",
    "        assert chw[2]%n_patches == 0\n",
    "        \n",
    "        self.patch_size = (chw[1]/n_patches,chw[2]/n_patches)\n",
    "        # linear mapper\n",
    "        self.input_d = int(chw[0]*self.patch_size[0]*self.patch_size[1])\n",
    "        self.linear_mapper = nn.Linear(self.input_d,self.hidden_d)\n",
    "        # class token\n",
    "        self.class_token= nn.Parameter(t.rand(1,self.hidden_d))\n",
    "        # positional encoding\n",
    "        self.pos_embd = nn.Parameter(get_positional_embeddings(self.n_patches**2+1,self.hidden_d))\n",
    "    def forward(self,images:Tensor)->Tensor:\n",
    "        # 1. [n,c,h,w] -> [n,p^2,chw/p^2]\n",
    "        patches = patchfy(images)\n",
    "        # 2. [n,p^2,chw/p^2] -> [n,p^2,h]\n",
    "        tokens = self.linear_mapper.forward(patches)\n",
    "        # 3. [n,p^2,h] -> [n,p^2+1,h]\n",
    "        tokens = t.stack([t.vstack((self.class_token,tokens[i]))for i in range(len(tokens))])\n",
    "        # 4. [n,p^2+1,h]->[n,p^2+1,h]\n",
    "        pos_embed = self.pos_embd.repeat(n,1,1)\n",
    "        return (patches)"
   ]
  },
  {
   "attachments": {},
   "cell_type": "markdown",
   "metadata": {},
   "source": [
    "# STEP 4: Construct Encoder Block\n",
    "## 4.1 Layer Normalization (LN)"
   ]
  },
  {
   "cell_type": "code",
   "execution_count": 12,
   "metadata": {},
   "outputs": [
    {
     "data": {
      "text/plain": [
       "<torch._C.Generator at 0x11f28bd0350>"
      ]
     },
     "execution_count": 12,
     "metadata": {},
     "output_type": "execute_result"
    }
   ],
   "source": [
    "t.manual_seed(42)"
   ]
  },
  {
   "cell_type": "code",
   "execution_count": 13,
   "metadata": {},
   "outputs": [
    {
     "data": {
      "text/plain": [
       "torch.Size([50, 8])"
      ]
     },
     "execution_count": 13,
     "metadata": {},
     "output_type": "execute_result"
    }
   ],
   "source": [
    "ln=nn.LayerNorm(8,elementwise_affine=False)\n",
    "\n",
    "ln.forward(t.randn((50,8))).shape"
   ]
  },
  {
   "cell_type": "code",
   "execution_count": 14,
   "metadata": {},
   "outputs": [
    {
     "data": {
      "text/plain": [
       "torch.Size([100, 50, 8])"
      ]
     },
     "execution_count": 14,
     "metadata": {},
     "output_type": "execute_result"
    }
   ],
   "source": [
    "ln.forward(t.randn((100,50,8))).shape"
   ]
  },
  {
   "cell_type": "code",
   "execution_count": 15,
   "metadata": {},
   "outputs": [
    {
     "data": {
      "text/plain": [
       "tensor([[-1.5275, -1.0911, -0.6547, -0.2182,  0.2182,  0.6547,  1.0911,  1.5275]])"
      ]
     },
     "execution_count": 15,
     "metadata": {},
     "output_type": "execute_result"
    }
   ],
   "source": [
    "ln.forward(t.tensor([[1.,2.,3.,4.,5.,6.,7.,8.]]))"
   ]
  },
  {
   "cell_type": "code",
   "execution_count": 16,
   "metadata": {},
   "outputs": [
    {
     "data": {
      "text/plain": [
       "'2.0.0+cu118'"
      ]
     },
     "execution_count": 16,
     "metadata": {},
     "output_type": "execute_result"
    }
   ],
   "source": [
    "t.__version__"
   ]
  },
  {
   "cell_type": "code",
   "execution_count": 17,
   "metadata": {},
   "outputs": [],
   "source": [
    "for name,param in ln.named_parameters():\n",
    "    print(name,param)"
   ]
  },
  {
   "cell_type": "code",
   "execution_count": 18,
   "metadata": {},
   "outputs": [
    {
     "data": {
      "text/plain": [
       "tensor([[-1.4289, -1.0206, -0.6124, -0.2041,  0.2041,  0.6124,  1.0206,  1.4289]])"
      ]
     },
     "execution_count": 18,
     "metadata": {},
     "output_type": "execute_result"
    }
   ],
   "source": [
    "example = t.tensor([[1.,2.,3.,4.,5.,6.,7.,8.]],dtype=t.float32) \n",
    "example = (example- example.mean(dim=-1, keepdim=True))/t.sqrt(example.var(dim=-1, keepdim=True)+1e-5)\n",
    "example"
   ]
  },
  {
   "attachments": {},
   "cell_type": "markdown",
   "metadata": {},
   "source": [
    "Why it is different? But actually they have the same pattern, I have asked New Bing but still can't find the cause of the problem."
   ]
  },
  {
   "cell_type": "code",
   "execution_count": 19,
   "metadata": {},
   "outputs": [],
   "source": [
    "del ln"
   ]
  },
  {
   "attachments": {},
   "cell_type": "markdown",
   "metadata": {},
   "source": [
    "## 4.2 Multi-head Self Attention\n",
    "Query,Key,Value\n",
    "\n",
    "like `nn.MultiheadAttention`\n",
    "\n",
    "Until now, I have found the Multihead attention mechanism is integrated into pytorch in 2.0 Version.\n",
    "\n",
    "It is important to scan `forward` process carefully, it is not a effecient way to use multi-head attention, but it is clear to show the mechanism."
   ]
  },
  {
   "cell_type": "code",
   "execution_count": 20,
   "metadata": {},
   "outputs": [],
   "source": [
    "class MHA(nn.Module):\n",
    "    def __init__(self,d:int,n_heads=2) -> None:\n",
    "        super().__init__()\n",
    "        self.d = d\n",
    "        self.n_heads = n_heads\n",
    "        \n",
    "        assert d%n_heads==0,f\"Can't divide dimension {d} into {n_heads} heads\"\n",
    "        \n",
    "        d_head = int(d/n_heads)\n",
    "        self.q_mappings = nn.ModuleList([nn.Linear(d_head,d_head) for _ in range(self.n_heads)])\n",
    "        self.k_mappings = nn.ModuleList([nn.Linear(d_head,d_head) for _ in range(self.n_heads)])\n",
    "        self.v_mappings = nn.ModuleList([nn.Linear(d_head,d_head) for _ in range(self.n_heads)])\n",
    "        self.d_head = d_head\n",
    "        self.softmax=nn.Softmax(dim=-1)\n",
    "    \n",
    "    def forward(self,sequences:Tensor)->Tensor:\n",
    "        #input: [n,sequence_length,n_hiddens]\n",
    "        result = []\n",
    "        for sequence in sequences:\n",
    "            seq_result = []\n",
    "            for head in range(self.n_heads):\n",
    "                q_mapping = self.q_mappings[head]\n",
    "                k_mapping = self.k_mappings[head]\n",
    "                v_mapping = self.v_mappings[head]\n",
    "                \n",
    "                seq = sequence[:,head*self.d_head:(head+1)*self.d_head]\n",
    "                q,k,v = q_mapping.forward(seq),k_mapping.forward(seq),v_mapping.forward(seq)\n",
    "                \n",
    "                attention = self.softmax(q@k.T/(self.d_head**0.5))\n",
    "                seq_result.append(attention@v)\n",
    "            result.append(t.hstack(seq_result))\n",
    "        return t.cat([t.unsqueeze(r,dim=0) for r in result])\n",
    "    "
   ]
  },
  {
   "attachments": {},
   "cell_type": "markdown",
   "metadata": {},
   "source": [
    "## 4.3 Finish the Encoder Block"
   ]
  },
  {
   "cell_type": "code",
   "execution_count": 21,
   "metadata": {},
   "outputs": [],
   "source": [
    "class VitBlock(nn.Module):\n",
    "    def __init__(self,hidden_d:int,n_heads:int,mlp_ratio=4) -> None:\n",
    "        super().__init__()\n",
    "        self.hidden_d = hidden_d\n",
    "        self.n_heads = n_heads\n",
    "        \n",
    "        self.norm1 =nn.LayerNorm(hidden_d)\n",
    "        self.mha = MHA(hidden_d,n_heads)\n",
    "        self.norm2 =nn.LayerNorm(hidden_d)\n",
    "        self.mlp = nn.Sequential(\n",
    "            nn.Linear(hidden_d,mlp_ratio*hidden_d),\n",
    "            nn.GELU(),\n",
    "            nn.Linear(hidden_d*mlp_ratio,hidden_d),\n",
    "        )\n",
    "    \n",
    "    def forward(self,x:Tensor) -> Tensor:\n",
    "        # residual\n",
    "        out =  x + self.mha(self.norm1(x))\n",
    "        out = out + self.mlp(self.norm2(out))\n",
    "        return out"
   ]
  },
  {
   "attachments": {},
   "cell_type": "markdown",
   "metadata": {},
   "source": [
    "Test the Encoder Block"
   ]
  },
  {
   "cell_type": "code",
   "execution_count": 22,
   "metadata": {},
   "outputs": [
    {
     "data": {
      "text/plain": [
       "torch.Size([1, 8, 8])"
      ]
     },
     "execution_count": 22,
     "metadata": {},
     "output_type": "execute_result"
    }
   ],
   "source": [
    "eb = VitBlock(8,2,4)\n",
    "eb.forward(t.randn(1,8,8)).shape"
   ]
  },
  {
   "cell_type": "code",
   "execution_count": 23,
   "metadata": {},
   "outputs": [],
   "source": [
    "del eb"
   ]
  },
  {
   "attachments": {},
   "cell_type": "markdown",
   "metadata": {},
   "source": [
    "# 5. Conbine All things together\n",
    "\n",
    "Here we added the last component : the classification head\n",
    "1. Extract the first patch, i.e., the `class_token` as the input features of the classification head\n",
    "2. Add the classification head to transfom [n,hiddens] to [n,num_classes]"
   ]
  },
  {
   "cell_type": "code",
   "execution_count": 24,
   "metadata": {},
   "outputs": [],
   "source": [
    "class VisionTransformer(nn.Module):\n",
    "    def __init__(self,chw=(3,64,64),n_patches =8,n_blocks=2,hidden_d=8,n_heads=2,out_d=10) -> None:\n",
    "        super().__init__()\n",
    "        self.chw = chw\n",
    "        self.n_patches = n_patches\n",
    "        self.n_heads = n_heads\n",
    "        self.hidden_d = hidden_d\n",
    "        self.n_blocks = n_blocks\n",
    "        \n",
    "        assert chw[1]%n_patches == 0\n",
    "        assert chw[2]%n_patches == 0\n",
    "        \n",
    "        self.patch_size = (chw[1]/n_patches,chw[2]/n_patches)\n",
    "        # linear mapper\n",
    "        self.input_d = int(chw[0]*self.patch_size[0]*self.patch_size[1])\n",
    "        self.linear_mapper = nn.Linear(self.input_d,self.hidden_d)\n",
    "        # class token\n",
    "        self.class_token= nn.Parameter(t.rand(1,self.hidden_d))\n",
    "        # positional encoding\n",
    "        self.pos_embd = nn.Parameter(get_positional_embeddings(self.n_patches**2+1,self.hidden_d))\n",
    "        # encoder blocks\n",
    "        self.enc_blocks = nn.ModuleList(\n",
    "            [VitBlock(hidden_d,n_heads) for _ in range(n_blocks)]\n",
    "        )\n",
    "        # classification head\n",
    "        self.mlp = nn.Sequential(\n",
    "            nn.Linear(self.hidden_d,out_d),\n",
    "            nn.Softmax(dim=-1)\n",
    "        )\n",
    "    def forward(self,images:Tensor)->Tensor:\n",
    "        n,c,h,w = images.shape\n",
    "        images.to(self.pos_embd.device)\n",
    "        # 1. [n,c,h,w] -> [n,p^2,chw/p^2]\n",
    "        patches = patchfy(images,self.n_patches)\n",
    "        # 2. [n,p^2,chw/p^2] -> [n,p^2,h]\n",
    "        tokens = self.linear_mapper.forward(patches)\n",
    "        # 3. [n,p^2,h] -> [n,p^2+1,h]\n",
    "        tokens = t.stack([t.vstack((self.class_token,tokens[i]))for i in range(len(tokens))])\n",
    "        # 4. [n,p^2+1,h]->[n,p^2+1,h]\n",
    "        pos_embed = self.pos_embd.repeat(n,1,1)\n",
    "        out = tokens + pos_embed\n",
    "        # 5. [n,p^2+1,h]->[n,p^2+1,h]\n",
    "        for block in self.enc_blocks:\n",
    "            out = block.forward(out)\n",
    "        # 6. [n,p^2+1,h]->[n,h]\n",
    "        out= out[:,0]\n",
    "        # 7. [n,h]->[n,num_classes]\n",
    "        out = self.mlp.forward(out)\n",
    "        return out"
   ]
  },
  {
   "attachments": {},
   "cell_type": "markdown",
   "metadata": {},
   "source": [
    "Test"
   ]
  },
  {
   "cell_type": "code",
   "execution_count": 25,
   "metadata": {},
   "outputs": [
    {
     "data": {
      "text/plain": [
       "torch.Size([1, 10])"
      ]
     },
     "execution_count": 25,
     "metadata": {},
     "output_type": "execute_result"
    }
   ],
   "source": [
    "image = t.zeros((1,3,64,64))\n",
    "\n",
    "vit = VisionTransformer(chw=(3,64,64),n_patches=8,n_blocks=5,hidden_d=8,n_heads=8,out_d = 10)\n",
    "\n",
    "# shoud output [1,10] shape\n",
    "vit.forward(image).shape"
   ]
  },
  {
   "cell_type": "code",
   "execution_count": 26,
   "metadata": {},
   "outputs": [
    {
     "data": {
      "text/plain": [
       "torch.Size([1, 200])"
      ]
     },
     "execution_count": 26,
     "metadata": {},
     "output_type": "execute_result"
    }
   ],
   "source": [
    "vit = VisionTransformer(chw=(3,64,64),\n",
    "                        n_patches=4,\n",
    "                        n_blocks=12,\n",
    "                        hidden_d=768,\n",
    "                        n_heads=12,\n",
    "                        out_d =200)\n",
    "\n",
    "# shoud output [1,200] shape\n",
    "vit.forward(image).shape"
   ]
  },
  {
   "attachments": {},
   "cell_type": "markdown",
   "metadata": {},
   "source": [
    "# 6. Build-in Transformers\n",
    "It is recommended to dive into the source code of transformers to understand what they are really doing."
   ]
  },
  {
   "cell_type": "code",
   "execution_count": 27,
   "metadata": {},
   "outputs": [
    {
     "data": {
      "text/plain": [
       "<function torchvision.models.vision_transformer.vit_h_14(*, weights: Optional[torchvision.models.vision_transformer.ViT_H_14_Weights] = None, progress: bool = True, **kwargs: Any) -> torchvision.models.vision_transformer.VisionTransformer>"
      ]
     },
     "execution_count": 27,
     "metadata": {},
     "output_type": "execute_result"
    }
   ],
   "source": [
    "import torchvision as tv\n",
    "\n",
    "tv.models.vit_l_16\n",
    "tv.models.vit_l_32\n",
    "tv.models.vit_b_16\n",
    "tv.models.vit_b_32\n",
    "tv.models.vit_h_14"
   ]
  },
  {
   "attachments": {},
   "cell_type": "markdown",
   "metadata": {},
   "source": [
    "- vit means VisionTransformer\n",
    "- l/b/h: The `l` stands for large, the `b` stands for base, and the `h` stands for hybrid\n",
    "- 16/32: An image is worth 16x16 words (is divided into 16x16 patches), the same as 32."
   ]
  },
  {
   "cell_type": "code",
   "execution_count": 28,
   "metadata": {},
   "outputs": [],
   "source": [
    "def calculate_param_num(net:nn.Module):\n",
    "    \"\"\"calculate the number of parameters\n",
    "\n",
    "    Args:\n",
    "        net (nn.Module): the network.\n",
    "    \"\"\"\n",
    "    return sum(p.numel() for p in net.parameters())"
   ]
  },
  {
   "cell_type": "code",
   "execution_count": 29,
   "metadata": {},
   "outputs": [],
   "source": [
    "models = [\n",
    "tv.models.vit_b_16(),\n",
    "tv.models.vit_b_32(),\n",
    "tv.models.vit_l_16(),\n",
    "tv.models.vit_l_32(),\n",
    "tv.models.vit_h_14(),\n",
    "]"
   ]
  },
  {
   "attachments": {},
   "cell_type": "markdown",
   "metadata": {},
   "source": [
    "Let us see the papameter numbers"
   ]
  },
  {
   "cell_type": "code",
   "execution_count": 30,
   "metadata": {},
   "outputs": [
    {
     "data": {
      "text/plain": [
       "[86567656, 88224232, 304326632, 306535400, 632045800]"
      ]
     },
     "execution_count": 30,
     "metadata": {},
     "output_type": "execute_result"
    }
   ],
   "source": [
    "parm_nums = [calculate_param_num(model) for model in models]\n",
    "parm_nums"
   ]
  },
  {
   "cell_type": "code",
   "execution_count": 31,
   "metadata": {},
   "outputs": [
    {
     "data": {
      "text/plain": [
       "array([0.13696421, 0.13958519, 0.48149459, 0.48498922, 1.        ])"
      ]
     },
     "execution_count": 31,
     "metadata": {},
     "output_type": "execute_result"
    }
   ],
   "source": [
    "parm_nums/np.max(parm_nums)"
   ]
  },
  {
   "attachments": {},
   "cell_type": "markdown",
   "metadata": {},
   "source": [
    "Print one of the following parameters"
   ]
  },
  {
   "cell_type": "code",
   "execution_count": 32,
   "metadata": {},
   "outputs": [
    {
     "data": {
      "text/plain": [
       "VisionTransformer(\n",
       "  (conv_proj): Conv2d(3, 768, kernel_size=(16, 16), stride=(16, 16))\n",
       "  (encoder): Encoder(\n",
       "    (dropout): Dropout(p=0.0, inplace=False)\n",
       "    (layers): Sequential(\n",
       "      (encoder_layer_0): EncoderBlock(\n",
       "        (ln_1): LayerNorm((768,), eps=1e-06, elementwise_affine=True)\n",
       "        (self_attention): MultiheadAttention(\n",
       "          (out_proj): NonDynamicallyQuantizableLinear(in_features=768, out_features=768, bias=True)\n",
       "        )\n",
       "        (dropout): Dropout(p=0.0, inplace=False)\n",
       "        (ln_2): LayerNorm((768,), eps=1e-06, elementwise_affine=True)\n",
       "        (mlp): MLPBlock(\n",
       "          (0): Linear(in_features=768, out_features=3072, bias=True)\n",
       "          (1): GELU(approximate='none')\n",
       "          (2): Dropout(p=0.0, inplace=False)\n",
       "          (3): Linear(in_features=3072, out_features=768, bias=True)\n",
       "          (4): Dropout(p=0.0, inplace=False)\n",
       "        )\n",
       "      )\n",
       "      (encoder_layer_1): EncoderBlock(\n",
       "        (ln_1): LayerNorm((768,), eps=1e-06, elementwise_affine=True)\n",
       "        (self_attention): MultiheadAttention(\n",
       "          (out_proj): NonDynamicallyQuantizableLinear(in_features=768, out_features=768, bias=True)\n",
       "        )\n",
       "        (dropout): Dropout(p=0.0, inplace=False)\n",
       "        (ln_2): LayerNorm((768,), eps=1e-06, elementwise_affine=True)\n",
       "        (mlp): MLPBlock(\n",
       "          (0): Linear(in_features=768, out_features=3072, bias=True)\n",
       "          (1): GELU(approximate='none')\n",
       "          (2): Dropout(p=0.0, inplace=False)\n",
       "          (3): Linear(in_features=3072, out_features=768, bias=True)\n",
       "          (4): Dropout(p=0.0, inplace=False)\n",
       "        )\n",
       "      )\n",
       "      (encoder_layer_2): EncoderBlock(\n",
       "        (ln_1): LayerNorm((768,), eps=1e-06, elementwise_affine=True)\n",
       "        (self_attention): MultiheadAttention(\n",
       "          (out_proj): NonDynamicallyQuantizableLinear(in_features=768, out_features=768, bias=True)\n",
       "        )\n",
       "        (dropout): Dropout(p=0.0, inplace=False)\n",
       "        (ln_2): LayerNorm((768,), eps=1e-06, elementwise_affine=True)\n",
       "        (mlp): MLPBlock(\n",
       "          (0): Linear(in_features=768, out_features=3072, bias=True)\n",
       "          (1): GELU(approximate='none')\n",
       "          (2): Dropout(p=0.0, inplace=False)\n",
       "          (3): Linear(in_features=3072, out_features=768, bias=True)\n",
       "          (4): Dropout(p=0.0, inplace=False)\n",
       "        )\n",
       "      )\n",
       "      (encoder_layer_3): EncoderBlock(\n",
       "        (ln_1): LayerNorm((768,), eps=1e-06, elementwise_affine=True)\n",
       "        (self_attention): MultiheadAttention(\n",
       "          (out_proj): NonDynamicallyQuantizableLinear(in_features=768, out_features=768, bias=True)\n",
       "        )\n",
       "        (dropout): Dropout(p=0.0, inplace=False)\n",
       "        (ln_2): LayerNorm((768,), eps=1e-06, elementwise_affine=True)\n",
       "        (mlp): MLPBlock(\n",
       "          (0): Linear(in_features=768, out_features=3072, bias=True)\n",
       "          (1): GELU(approximate='none')\n",
       "          (2): Dropout(p=0.0, inplace=False)\n",
       "          (3): Linear(in_features=3072, out_features=768, bias=True)\n",
       "          (4): Dropout(p=0.0, inplace=False)\n",
       "        )\n",
       "      )\n",
       "      (encoder_layer_4): EncoderBlock(\n",
       "        (ln_1): LayerNorm((768,), eps=1e-06, elementwise_affine=True)\n",
       "        (self_attention): MultiheadAttention(\n",
       "          (out_proj): NonDynamicallyQuantizableLinear(in_features=768, out_features=768, bias=True)\n",
       "        )\n",
       "        (dropout): Dropout(p=0.0, inplace=False)\n",
       "        (ln_2): LayerNorm((768,), eps=1e-06, elementwise_affine=True)\n",
       "        (mlp): MLPBlock(\n",
       "          (0): Linear(in_features=768, out_features=3072, bias=True)\n",
       "          (1): GELU(approximate='none')\n",
       "          (2): Dropout(p=0.0, inplace=False)\n",
       "          (3): Linear(in_features=3072, out_features=768, bias=True)\n",
       "          (4): Dropout(p=0.0, inplace=False)\n",
       "        )\n",
       "      )\n",
       "      (encoder_layer_5): EncoderBlock(\n",
       "        (ln_1): LayerNorm((768,), eps=1e-06, elementwise_affine=True)\n",
       "        (self_attention): MultiheadAttention(\n",
       "          (out_proj): NonDynamicallyQuantizableLinear(in_features=768, out_features=768, bias=True)\n",
       "        )\n",
       "        (dropout): Dropout(p=0.0, inplace=False)\n",
       "        (ln_2): LayerNorm((768,), eps=1e-06, elementwise_affine=True)\n",
       "        (mlp): MLPBlock(\n",
       "          (0): Linear(in_features=768, out_features=3072, bias=True)\n",
       "          (1): GELU(approximate='none')\n",
       "          (2): Dropout(p=0.0, inplace=False)\n",
       "          (3): Linear(in_features=3072, out_features=768, bias=True)\n",
       "          (4): Dropout(p=0.0, inplace=False)\n",
       "        )\n",
       "      )\n",
       "      (encoder_layer_6): EncoderBlock(\n",
       "        (ln_1): LayerNorm((768,), eps=1e-06, elementwise_affine=True)\n",
       "        (self_attention): MultiheadAttention(\n",
       "          (out_proj): NonDynamicallyQuantizableLinear(in_features=768, out_features=768, bias=True)\n",
       "        )\n",
       "        (dropout): Dropout(p=0.0, inplace=False)\n",
       "        (ln_2): LayerNorm((768,), eps=1e-06, elementwise_affine=True)\n",
       "        (mlp): MLPBlock(\n",
       "          (0): Linear(in_features=768, out_features=3072, bias=True)\n",
       "          (1): GELU(approximate='none')\n",
       "          (2): Dropout(p=0.0, inplace=False)\n",
       "          (3): Linear(in_features=3072, out_features=768, bias=True)\n",
       "          (4): Dropout(p=0.0, inplace=False)\n",
       "        )\n",
       "      )\n",
       "      (encoder_layer_7): EncoderBlock(\n",
       "        (ln_1): LayerNorm((768,), eps=1e-06, elementwise_affine=True)\n",
       "        (self_attention): MultiheadAttention(\n",
       "          (out_proj): NonDynamicallyQuantizableLinear(in_features=768, out_features=768, bias=True)\n",
       "        )\n",
       "        (dropout): Dropout(p=0.0, inplace=False)\n",
       "        (ln_2): LayerNorm((768,), eps=1e-06, elementwise_affine=True)\n",
       "        (mlp): MLPBlock(\n",
       "          (0): Linear(in_features=768, out_features=3072, bias=True)\n",
       "          (1): GELU(approximate='none')\n",
       "          (2): Dropout(p=0.0, inplace=False)\n",
       "          (3): Linear(in_features=3072, out_features=768, bias=True)\n",
       "          (4): Dropout(p=0.0, inplace=False)\n",
       "        )\n",
       "      )\n",
       "      (encoder_layer_8): EncoderBlock(\n",
       "        (ln_1): LayerNorm((768,), eps=1e-06, elementwise_affine=True)\n",
       "        (self_attention): MultiheadAttention(\n",
       "          (out_proj): NonDynamicallyQuantizableLinear(in_features=768, out_features=768, bias=True)\n",
       "        )\n",
       "        (dropout): Dropout(p=0.0, inplace=False)\n",
       "        (ln_2): LayerNorm((768,), eps=1e-06, elementwise_affine=True)\n",
       "        (mlp): MLPBlock(\n",
       "          (0): Linear(in_features=768, out_features=3072, bias=True)\n",
       "          (1): GELU(approximate='none')\n",
       "          (2): Dropout(p=0.0, inplace=False)\n",
       "          (3): Linear(in_features=3072, out_features=768, bias=True)\n",
       "          (4): Dropout(p=0.0, inplace=False)\n",
       "        )\n",
       "      )\n",
       "      (encoder_layer_9): EncoderBlock(\n",
       "        (ln_1): LayerNorm((768,), eps=1e-06, elementwise_affine=True)\n",
       "        (self_attention): MultiheadAttention(\n",
       "          (out_proj): NonDynamicallyQuantizableLinear(in_features=768, out_features=768, bias=True)\n",
       "        )\n",
       "        (dropout): Dropout(p=0.0, inplace=False)\n",
       "        (ln_2): LayerNorm((768,), eps=1e-06, elementwise_affine=True)\n",
       "        (mlp): MLPBlock(\n",
       "          (0): Linear(in_features=768, out_features=3072, bias=True)\n",
       "          (1): GELU(approximate='none')\n",
       "          (2): Dropout(p=0.0, inplace=False)\n",
       "          (3): Linear(in_features=3072, out_features=768, bias=True)\n",
       "          (4): Dropout(p=0.0, inplace=False)\n",
       "        )\n",
       "      )\n",
       "      (encoder_layer_10): EncoderBlock(\n",
       "        (ln_1): LayerNorm((768,), eps=1e-06, elementwise_affine=True)\n",
       "        (self_attention): MultiheadAttention(\n",
       "          (out_proj): NonDynamicallyQuantizableLinear(in_features=768, out_features=768, bias=True)\n",
       "        )\n",
       "        (dropout): Dropout(p=0.0, inplace=False)\n",
       "        (ln_2): LayerNorm((768,), eps=1e-06, elementwise_affine=True)\n",
       "        (mlp): MLPBlock(\n",
       "          (0): Linear(in_features=768, out_features=3072, bias=True)\n",
       "          (1): GELU(approximate='none')\n",
       "          (2): Dropout(p=0.0, inplace=False)\n",
       "          (3): Linear(in_features=3072, out_features=768, bias=True)\n",
       "          (4): Dropout(p=0.0, inplace=False)\n",
       "        )\n",
       "      )\n",
       "      (encoder_layer_11): EncoderBlock(\n",
       "        (ln_1): LayerNorm((768,), eps=1e-06, elementwise_affine=True)\n",
       "        (self_attention): MultiheadAttention(\n",
       "          (out_proj): NonDynamicallyQuantizableLinear(in_features=768, out_features=768, bias=True)\n",
       "        )\n",
       "        (dropout): Dropout(p=0.0, inplace=False)\n",
       "        (ln_2): LayerNorm((768,), eps=1e-06, elementwise_affine=True)\n",
       "        (mlp): MLPBlock(\n",
       "          (0): Linear(in_features=768, out_features=3072, bias=True)\n",
       "          (1): GELU(approximate='none')\n",
       "          (2): Dropout(p=0.0, inplace=False)\n",
       "          (3): Linear(in_features=3072, out_features=768, bias=True)\n",
       "          (4): Dropout(p=0.0, inplace=False)\n",
       "        )\n",
       "      )\n",
       "    )\n",
       "    (ln): LayerNorm((768,), eps=1e-06, elementwise_affine=True)\n",
       "  )\n",
       "  (heads): Sequential(\n",
       "    (head): Linear(in_features=768, out_features=1000, bias=True)\n",
       "  )\n",
       ")"
      ]
     },
     "execution_count": 32,
     "metadata": {},
     "output_type": "execute_result"
    }
   ],
   "source": [
    "models[0]"
   ]
  },
  {
   "attachments": {},
   "cell_type": "markdown",
   "metadata": {},
   "source": [
    "12 layers with hidden_size = 768"
   ]
  },
  {
   "attachments": {},
   "cell_type": "markdown",
   "metadata": {},
   "source": [
    "Compare our Vit with the bulid-in method."
   ]
  },
  {
   "cell_type": "code",
   "execution_count": 33,
   "metadata": {},
   "outputs": [
    {
     "data": {
      "text/plain": [
       "torch.Size([1, 3, 64, 64])"
      ]
     },
     "execution_count": 33,
     "metadata": {},
     "output_type": "execute_result"
    }
   ],
   "source": [
    "image.shape"
   ]
  },
  {
   "cell_type": "code",
   "execution_count": 34,
   "metadata": {},
   "outputs": [
    {
     "name": "stdout",
     "output_type": "stream",
     "text": [
      "time_usg:  2.8987042903900146\n"
     ]
    }
   ],
   "source": [
    "import time\n",
    "start_time = time.time()\n",
    "# shoud output [1,200] shape\n",
    "for _ in range(100):\n",
    "    vit.forward(image)\n",
    "end_time = time.time()\n",
    "\n",
    "print(\"time_usg: \", end_time - start_time)\n"
   ]
  },
  {
   "cell_type": "code",
   "execution_count": 35,
   "metadata": {},
   "outputs": [
    {
     "name": "stdout",
     "output_type": "stream",
     "text": [
      "time_usg:  1.961057424545288\n"
     ]
    }
   ],
   "source": [
    "model2 = tv.models.VisionTransformer(\n",
    "    image_size=64,\n",
    "    patch_size=16,\n",
    "    num_layers=12,\n",
    "    num_heads=12,\n",
    "    hidden_dim=768,\n",
    "    mlp_dim=768,\n",
    "    num_classes=200,\n",
    ")\n",
    "\n",
    "start_time = time.time()\n",
    "# shoud output [1,200] shape\n",
    "for _ in range(100):\n",
    "    model2.forward(image)\n",
    "end_time = time.time()\n",
    "\n",
    "print(\"time_usg: \", end_time - start_time)"
   ]
  },
  {
   "attachments": {},
   "cell_type": "markdown",
   "metadata": {},
   "source": [
    "# LiGO for Transformers\n",
    "## 1. Embedding Layers\n",
    "Embedding layers are considered as the linear layer\n",
    "## 2. MHA Blocks\n",
    "For the attention qkvs\n",
    "\n",
    "$$\n",
    "\\mathbf{W}^Q,\\mathbf{W}^K,\\mathbf{W}^V\n",
    "$$\n",
    "## 3. Feed-forward NN\n",
    "\n",
    "## 4. Classification Head"
   ]
  },
  {
   "cell_type": "markdown",
   "metadata": {},
   "source": []
  }
 ],
 "metadata": {
  "kernelspec": {
   "display_name": "pytorch",
   "language": "python",
   "name": "python3"
  },
  "language_info": {
   "codemirror_mode": {
    "name": "ipython",
    "version": 3
   },
   "file_extension": ".py",
   "mimetype": "text/x-python",
   "name": "python",
   "nbconvert_exporter": "python",
   "pygments_lexer": "ipython3",
   "version": "3.9.16"
  },
  "orig_nbformat": 4
 },
 "nbformat": 4,
 "nbformat_minor": 2
}
