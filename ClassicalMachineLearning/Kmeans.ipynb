{
 "cells": [
  {
   "attachments": {},
   "cell_type": "markdown",
   "metadata": {},
   "source": [
    "# Kmeans\n",
    "In this code snippet, I will implement the Kmeans algorithm from scratch.\n",
    "\n",
    "It is a `Unsupervised` method that does not need a label.\n",
    "\n",
    "Here is the procedure:\n",
    "- Random initialization of the centroids (In sklearn code, the initial centroids can be initialized by certain methods like \"kmeans++\")\n",
    "- Calculate the sum of squared errors\n",
    "- Assign a centroid to each of the observations\n",
    "- Calculate the sum of total errors\n",
    "- Recalculate the position of the centroids\n"
   ]
  },
  {
   "cell_type": "code",
   "execution_count": 8,
   "metadata": {},
   "outputs": [],
   "source": [
    "import numpy as np\n",
    "from numpy import ndarray\n",
    "\n",
    "class KMeans():\n",
    "    def __init__(self,n_clusters:int,max_iter=100):\n",
    "        self.n_clusters = n_clusters\n",
    "        self.max_iter = max_iter\n",
    "        self.centroids = None\n",
    "        self.mean_squared_error = None\n",
    "    \n",
    "    def fit(self,X:ndarray,y:ndarray):\n",
    "        \"\"\"fit the KMeans model to the given X and y\n",
    "\n",
    "        Args:\n",
    "            X (ndarray): features, with shape (n_samples, n_features)\n",
    "            y (ndarray): labels, with shape (n_samples)\n",
    "        \"\"\"\n",
    "        # initialize the centroids\n",
    "        centroids = X[np.random.choice(range(len(X)),self.n_clusters)]\n",
    "        \n",
    "        # begin the loop\n",
    "        for i in range(self.max_iter):\n",
    "            distances = np.sqrt(((X-centroids[:,np.newaxis])**2).sum(axis=2))\n",
    "            closest_centroids = np.argmin(distances, axis=0)\n",
    "            error = np.sum(distances[closest_centroids, range(len(X))])\n",
    "        \n",
    "            # assign a centroid to each of the observations\n",
    "            for j in range(self.n_clusters):\n",
    "                centroids[j] = X[closest_centroids==j].mean(axis=0)\n",
    "                \n",
    "        # at the end of the loop, store the values of this data set\n",
    "        self.mean_squared_error = error\n",
    "        self.centroids = centroids\n",
    "        return self\n",
    "    \n",
    "    def predict(self,X:ndarray):\n",
    "        distances = np.sqrt(((X-self.centroids[:,np.newaxis])**2).sum(axis=2))\n",
    "        closest_centroids = np.argmin(distances, axis=0)\n",
    "        return closest_centroids"
   ]
  },
  {
   "cell_type": "code",
   "execution_count": 9,
   "metadata": {},
   "outputs": [],
   "source": [
    "from sklearn.datasets import load_iris\n",
    "data = load_iris()"
   ]
  },
  {
   "cell_type": "code",
   "execution_count": 16,
   "metadata": {},
   "outputs": [
    {
     "data": {
      "text/plain": [
       "array([[5.006     , 3.428     , 1.462     , 0.246     ],\n",
       "       [5.9016129 , 2.7483871 , 4.39354839, 1.43387097],\n",
       "       [6.85      , 3.07368421, 5.74210526, 2.07105263]])"
      ]
     },
     "execution_count": 16,
     "metadata": {},
     "output_type": "execute_result"
    }
   ],
   "source": [
    "km = KMeans(3)\n",
    "km.fit(data.data,data.target)\n",
    "km.centroids"
   ]
  }
 ],
 "metadata": {
  "kernelspec": {
   "display_name": "pytorch",
   "language": "python",
   "name": "python3"
  },
  "language_info": {
   "codemirror_mode": {
    "name": "ipython",
    "version": 3
   },
   "file_extension": ".py",
   "mimetype": "text/x-python",
   "name": "python",
   "nbconvert_exporter": "python",
   "pygments_lexer": "ipython3",
   "version": "3.9.16"
  },
  "orig_nbformat": 4
 },
 "nbformat": 4,
 "nbformat_minor": 2
}
