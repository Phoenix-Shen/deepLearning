{
 "cells": [
  {
   "attachments": {},
   "cell_type": "markdown",
   "metadata": {},
   "source": [
    "# Principal Component Analysis\n",
    "\n",
    "- It is a statistical technique used to reduce the dimensionality of large datasets while retaining most of the information in the dataset. \n",
    "- PCA is used in various fields such as neuroscience, quantitative finance, image compression, facial recognition and many more.\n",
    "- Here we will implement PCA by scratch and have a full view of the method.\n",
    "- this blog is very good, I recommend reading it. <http://blog.codinglabs.org/articles/pca-tutorial.html>\n",
    "## Steps of PCA\n",
    "- Standardize the data\n",
    "- Calculate the covariance matrix\n",
    "- Calculate the eigenvector and eigenvalues of the covariance matrix\n",
    "- Sort the eigenvalues in descending order and choose $k$ igenvectors that correspond to the $k$ largest eigenvalues to form a new matrix.\n",
    "- Transform the original data into the new $k$ dimensional space.\n"
   ]
  },
  {
   "cell_type": "code",
   "execution_count": 13,
   "metadata": {},
   "outputs": [],
   "source": [
    "import numpy as np\n",
    "from numpy import ndarray\n",
    "\n",
    "class PCA():\n",
    "    def __init__(self,n_components:int):\n",
    "        \n",
    "        self.n_components = n_components\n",
    "    \n",
    "    def fit(self,X:ndarray,y:ndarray=None):\n",
    "        \n",
    "        # 1. norm data\n",
    "        X_std = (X-np.mean(X,axis=0))/X.std(axis=0)\n",
    "        \n",
    "        # 2. get the cov mat\n",
    "        cov_mat = np.cov(X_std.T)\n",
    "        # also we can use this line\n",
    "        # X_std.T@X_std/len(X_std)\n",
    "        \n",
    "        # 3. get the eigenvalues eigenvectors of the cov mat\n",
    "        eig_vals, eig_vecs = np.linalg.eig(cov_mat)\n",
    "        \n",
    "        # 4. sort the eigenvalues in decreasing order and select top-k eigenvectors according to the eigenvalues\n",
    "        eig_pairs = [(np.abs(eig_vals[i]),eig_vecs[:,i]) for i in range(len(eig_vals))]\n",
    "        eig_pairs.sort(key=lambda x: x[0], reverse=True)\n",
    "        matrix_w = np.hstack([(eig_pairs[i][1].reshape(len(eig_vals), 1)) for i in range(self.n_components)])\n",
    "        \n",
    "        # 5. store the matrix\n",
    "        self.matrix_w = matrix_w\n",
    "        self.X_std = X_std\n",
    "        self.eig_pairs = eig_pairs\n",
    "        \n",
    "    def fit_transform(self,X:ndarray,y:ndarray=None):\n",
    "        self.fit(X,y)\n",
    "        return self.X_std.dot(self.matrix_w)\n",
    "\n",
    "    def predict(self,X:ndarray,y:ndarray=None):\n",
    "        X_std = (X-np.mean(X,axis=0))/np.std(X,axis=0)\n",
    "        return X_std.dot(self.matrix_w)"
   ]
  },
  {
   "attachments": {},
   "cell_type": "markdown",
   "metadata": {},
   "source": [
    "Load the data and test the PCA model"
   ]
  },
  {
   "cell_type": "code",
   "execution_count": 14,
   "metadata": {},
   "outputs": [],
   "source": [
    "from sklearn.datasets import load_iris\n",
    "data = load_iris()\n",
    "\n",
    "X = data.data\n",
    "y = data.target"
   ]
  },
  {
   "cell_type": "code",
   "execution_count": 15,
   "metadata": {},
   "outputs": [],
   "source": [
    "pca= PCA(2)\n",
    "X_pca = pca.fit_transform(X)"
   ]
  },
  {
   "attachments": {},
   "cell_type": "markdown",
   "metadata": {},
   "source": [
    "Apply a linear model"
   ]
  },
  {
   "cell_type": "code",
   "execution_count": 16,
   "metadata": {},
   "outputs": [
    {
     "data": {
      "text/plain": [
       "0.9733333333333334"
      ]
     },
     "execution_count": 16,
     "metadata": {},
     "output_type": "execute_result"
    }
   ],
   "source": [
    "from sklearn.linear_model import LogisticRegression\n",
    "\n",
    "cls = LogisticRegression(max_iter=500)\n",
    "\n",
    "cls.fit(X,y)\n",
    "cls.score(X,y)"
   ]
  },
  {
   "cell_type": "code",
   "execution_count": 17,
   "metadata": {},
   "outputs": [
    {
     "data": {
      "text/plain": [
       "0.9333333333333333"
      ]
     },
     "execution_count": 17,
     "metadata": {},
     "output_type": "execute_result"
    }
   ],
   "source": [
    "cls = LogisticRegression()\n",
    "\n",
    "cls.fit(X_pca,y)\n",
    "cls.score(X_pca,y)"
   ]
  },
  {
   "attachments": {},
   "cell_type": "markdown",
   "metadata": {},
   "source": [
    "Visualize"
   ]
  },
  {
   "cell_type": "code",
   "execution_count": 25,
   "metadata": {},
   "outputs": [
    {
     "data": {
      "text/plain": [
       "[2.9380850501999936,\n",
       " 0.920164904162487,\n",
       " 0.14774182104494776,\n",
       " 0.02085386217646217]"
      ]
     },
     "execution_count": 25,
     "metadata": {},
     "output_type": "execute_result"
    }
   ],
   "source": [
    "eigen_values = [pca.eig_pairs[i][0] for i in range(len(pca.eig_pairs))]\n",
    "eigen_values"
   ]
  },
  {
   "cell_type": "code",
   "execution_count": 33,
   "metadata": {},
   "outputs": [
    {
     "data": {
      "image/png": "[encoded data removed]",
      "text/plain": [
       "<Figure size 640x480 with 1 Axes>"
      ]
     },
     "metadata": {},
     "output_type": "display_data"
    }
   ],
   "source": [
    "from matplotlib import pyplot as plt\n",
    "plt.bar([\"PC_{}\".format(i) for i in range(len(eigen_values))],eigen_values)\n",
    "plt.show()"
   ]
  },
  {
   "attachments": {},
   "cell_type": "markdown",
   "metadata": {},
   "source": [
    "We can find that at the sacrifice of a little accuracy, we can reduce the dimension of the data from 4 to 2."
   ]
  },
  {
   "attachments": {},
   "cell_type": "markdown",
   "metadata": {},
   "source": [
    "# Mathmatical Knowledge Behind PCA"
   ]
  },
  {
   "attachments": {},
   "cell_type": "markdown",
   "metadata": {},
   "source": [
    "- Unsupervised\n",
    "- Continuous\n",
    "- Dimensionality Reduction"
   ]
  },
  {
   "attachments": {},
   "cell_type": "markdown",
   "metadata": {},
   "source": [
    "## Preliminary\n",
    "\n",
    "- Mean\n",
    "  $$\n",
    "  \\bar{x} = \\frac{1}{n} \\sum_{i=1}^N x_i\n",
    "  $$\n",
    "\n",
    "- Variance\n",
    "  $$\n",
    "  S^2 = \\frac{1}{n-1} \\sum_{i=1}^N (x_i-\\bar{x})^2\n",
    "  $$\n",
    "\n",
    "- Covariance\n",
    "  $$\n",
    "  Cov(X,Y) = \\mathbb{E}[(X-\\mathbb{E}(X))(Y-\\mathbb{E}(Y))]\n",
    "  = \\frac{1}{n-1} \\sum_{i=1}^N (x_i-\\bar{x})(y_i-\\bar{y})\n",
    "  $$\n",
    "\n",
    "variance is the special case of covariance\n",
    "\n",
    "## What does each step mean?\n",
    "\n",
    "1. Norm the data\n",
    "\n",
    "    ```python\n",
    "    X_std = (X-np.mean(X,axis=0))/np.std(X,axis=0)\n",
    "    ```\n",
    "\n",
    "    Assume the data has $N$ samples and each sample has $d$ features.\n",
    "\n",
    "    $$\n",
    "    \\mathbf{X} = [X_1,X_2,\\dots,X_N]\\\\\n",
    "    X_i = [f_{i1},f_{i2},\\dots,f_{id}]\n",
    "    $$\n",
    "\n",
    "    We normalize the data using the following equations, it will be used in the next step!\n",
    "    $$\n",
    "    \\tilde{X}_i =[\\tilde{f}_{i1},\\tilde{f}_{i2},\\dots,\\tilde{f}_{id}] \\\\\n",
    "    \\tilde{f}_{ij} = \\frac{f_{ij} - \\bar{f}_{ij}}{\\sqrt{\\frac{1}{N}\\sum_{k=1}^N (f_{kj}-\\bar{f}_{kj})^2}}\\\\\n",
    "    \\bar{f}_{ij} = f_{ij} - \\frac{1}{N}\\sum_{k=1}^N f_{kj}\n",
    "    $$\n",
    "\n",
    "    substract mean and divide by the standard deviation.\n",
    "\n",
    "    The reason why we divide by the standard deviation is to ensure that all features are on a similar scale. This is important because PCA is sensitive to the scale of the features. By dividing by the standard deviation, we ensure that all features have a similar variance.\n",
    "\n",
    "2. Covariance matrix\n",
    "   \n",
    "   ```python\n",
    "   cov_mat = np.cov(X_std.T)\n",
    "   # Also can be replaced with this line\n",
    "   X_std.T@X_std/len(X_std)\n",
    "   ```\n",
    "   \n",
    "   Recall   \n",
    "  $$\n",
    "  Cov(X,Y) = \\mathbb{E}[(X-\\mathbb{E}(X))(Y-\\mathbb{E}(Y))]\n",
    "  = \\frac{1}{n-1} \\sum_{i=1}^N (x_i-\\bar{x})(y_i-\\bar{y})\n",
    "  $$\n",
    "\n",
    "  So we have $Cov(f_{d_1},f_{d_2}) = \\frac{1}{N} \\sum_{i=1}^N f_{id_1}f_{id_2}$ because the mean is 0.\n",
    "  \n",
    "  Here, why do we use `X_std.T@X_std/len(X_std)`\n",
    "\n",
    "  Recall the matrix $X$ with shape $N\\times d$\n",
    "  $$\n",
    "  \\left[\n",
    "  \\begin{matrix}\n",
    "  f_{11}&f_{12}&\\dots &f_{1d}\\\\\n",
    "  &\\vdots&\\\\\n",
    "  f_{N1}&f_{N2}&\\dots &f_{Nd}\\\\\n",
    "  \\end{matrix}\n",
    "  \\right]\n",
    "  $$\n",
    "\n",
    "  $X^T$ is this, with shape $d \\times N$:\n",
    "  $$\n",
    "  \\left[\n",
    "  \\begin{matrix}\n",
    "  f_{11}&f_{21}&\\dots &f_{N1}\\\\\n",
    "  &\\vdots&\\\\\n",
    "  f_{1d}&f_{2d}&\\dots &f_{Nd}\\\\\n",
    "  \\end{matrix}\n",
    "  \\right]\n",
    "  $$\n",
    "\n",
    "  So, $\\frac{1}{N}X^TX$ equals:\n",
    "  $$\n",
    "  \\left[\n",
    "  \\begin{matrix}\n",
    "  \\frac{1}{N}\\sum_{k=1}^N f_{k1}f_{k1} & \\frac{1}{N}\\sum_{k=1}^N f_{k1}f_{k2} & \\dots & \\frac{1}{N}\\sum_{k=1}^N f_{k1}f_{kd}\\\\\n",
    "  \\frac{1}{N}\\sum_{k=1}^N f_{k2}f_{k1} & \\frac{1}{N}\\sum_{k=1}^N f_{k2}f_{k2} & \\dots & \\frac{1}{N}\\sum_{k=1}^N f_{k2}f_{kd}\\\\\n",
    "  \\vdots&\\\\\n",
    "  \\frac{1}{N}\\sum_{k=1}^N f_{kd}f_{k1} & \\frac{1}{N}\\sum_{k=1}^N f_{kd}f_{k2} & \\dots & \\frac{1}{N}\\sum_{k=1}^N f_{kd}f_{kd}\\\\\n",
    "  \\end{matrix}\n",
    "  \\right]\n",
    "  $$\n",
    "\n",
    "  See what? the entry of the i-th row and j-th col is the covariance of feature i and feature j, that is why we need to normalize the data in the first step. And this matrix is symmetric.\n",
    "\n",
    "3. get the eigenvalues eigenvectors of the cov mat\n",
    "   \n",
    "   `We wish to find the direction that can maximize the variance, and the covariance of every pair of features is zero.`\n",
    "\n",
    "   So we need to diagonalize the covariance matrix, assume $P$ is the transformation matrix and assume $C = \\frac{1}{N}X^TX$\n",
    "\n",
    "   the covariance of $PX$ is:\n",
    "   $$\n",
    "   \\begin{aligned}\n",
    "   Cov(PX) &= \\frac{1}{N} PX(PX)^T \\\\\n",
    "   &=\\frac{1}{N} PXX^TP^T\\\\\n",
    "   &=P\\frac{1}{N} XX^TP^T\\\\\n",
    "   &=P(\\frac{1}{N} XX^T)P^T\\\\\n",
    "   \\end{aligned}\n",
    "   $$\n",
    "  \n",
    "   \n",
    "   $C$ is symmetric, we can find $N$ orthogonal eigenvectors $E=[e_1,\\dots,e_N]$, and we have\n",
    "   $$\n",
    "   E^TCE = \\Lambda = \\left(\n",
    "    \\begin{matrix}\n",
    "    \\lambda_1 &&&\\\\\n",
    "    &\\lambda_2&&\\\\\n",
    "    &&\\ddots&\\\\\n",
    "    &&&\\lambda_N\\\\\n",
    "    \\end{matrix}\n",
    "   \\right)\n",
    "   $$\n",
    "\n",
    "  where $\\Lambda$ is diagonal matrix, and $\\lambda_i$ is the eigenvectors.\n",
    "\n",
    "4. sort the eigenvalues in decreasing order and select top-k eigenvectors according to the eigenvalues\n",
    "   Here we just sort the eigenvectors and find top-k features with largest variance.\n",
    "   And we have already found the transformation matrix $P$ , $P= E^T$ "
   ]
  },
  {
   "cell_type": "markdown",
   "metadata": {},
   "source": []
  }
 ],
 "metadata": {
  "kernelspec": {
   "display_name": "pytorch",
   "language": "python",
   "name": "python3"
  },
  "language_info": {
   "codemirror_mode": {
    "name": "ipython",
    "version": 3
   },
   "file_extension": ".py",
   "mimetype": "text/x-python",
   "name": "python",
   "nbconvert_exporter": "python",
   "pygments_lexer": "ipython3",
   "version": "3.9.13"
  },
  "orig_nbformat": 4
 },
 "nbformat": 4,
 "nbformat_minor": 2
}
