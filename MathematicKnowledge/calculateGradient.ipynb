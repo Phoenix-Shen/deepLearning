{
 "cells": [
  {
   "attachments": {},
   "cell_type": "markdown",
   "metadata": {},
   "source": [
    "# 在这个IPYNB中，实现了单层神经网络的梯度计算"
   ]
  },
  {
   "attachments": {},
   "cell_type": "markdown",
   "metadata": {},
   "source": [
    "1. 定义神经网络"
   ]
  },
  {
   "cell_type": "code",
   "execution_count": 245,
   "metadata": {},
   "outputs": [],
   "source": [
    "import torch as t\n",
    "import torch.nn as nn\n",
    "\n",
    "\n",
    "net = nn.Linear(1,1,bias=True)\n",
    "#net.weight,net.bias"
   ]
  },
  {
   "cell_type": "code",
   "execution_count": 246,
   "metadata": {},
   "outputs": [
    {
     "data": {
      "text/plain": [
       "Parameter containing:\n",
       "tensor([[-0.9141]], requires_grad=True)"
      ]
     },
     "execution_count": 246,
     "metadata": {},
     "output_type": "execute_result"
    }
   ],
   "source": [
    "net.weight"
   ]
  },
  {
   "attachments": {},
   "cell_type": "markdown",
   "metadata": {},
   "source": [
    "2. 初始化权重为1"
   ]
  },
  {
   "cell_type": "code",
   "execution_count": 247,
   "metadata": {},
   "outputs": [],
   "source": [
    "net.weight.data.fill_(1)"
   ]
  },
  {
   "cell_type": "code",
   "execution_count": 248,
   "metadata": {},
   "outputs": [
    {
     "data": {
      "text/plain": [
       "Parameter containing:\n",
       "tensor([[-0.9141]], requires_grad=True)"
      ]
     },
     "execution_count": 248,
     "metadata": {},
     "output_type": "execute_result"
    }
   ],
   "source": [
    "net.weight"
   ]
  },
  {
   "attachments": {},
   "cell_type": "markdown",
   "metadata": {},
   "source": [
    "3. 定义数据集，$y=2x$， 100个样本"
   ]
  },
  {
   "cell_type": "code",
   "execution_count": 249,
   "metadata": {},
   "outputs": [
    {
     "data": {
      "text/plain": [
       "(tensor([[ 0.],\n",
       "         [ 1.],\n",
       "         [ 2.],\n",
       "         [ 3.],\n",
       "         [ 4.],\n",
       "         [ 5.],\n",
       "         [ 6.],\n",
       "         [ 7.],\n",
       "         [ 8.],\n",
       "         [ 9.],\n",
       "         [10.],\n",
       "         [11.],\n",
       "         [12.],\n",
       "         [13.],\n",
       "         [14.],\n",
       "         [15.],\n",
       "         [16.],\n",
       "         [17.],\n",
       "         [18.],\n",
       "         [19.],\n",
       "         [20.],\n",
       "         [21.],\n",
       "         [22.],\n",
       "         [23.],\n",
       "         [24.],\n",
       "         [25.],\n",
       "         [26.],\n",
       "         [27.],\n",
       "         [28.],\n",
       "         [29.],\n",
       "         [30.],\n",
       "         [31.],\n",
       "         [32.],\n",
       "         [33.],\n",
       "         [34.],\n",
       "         [35.],\n",
       "         [36.],\n",
       "         [37.],\n",
       "         [38.],\n",
       "         [39.],\n",
       "         [40.],\n",
       "         [41.],\n",
       "         [42.],\n",
       "         [43.],\n",
       "         [44.],\n",
       "         [45.],\n",
       "         [46.],\n",
       "         [47.],\n",
       "         [48.],\n",
       "         [49.],\n",
       "         [50.],\n",
       "         [51.],\n",
       "         [52.],\n",
       "         [53.],\n",
       "         [54.],\n",
       "         [55.],\n",
       "         [56.],\n",
       "         [57.],\n",
       "         [58.],\n",
       "         [59.],\n",
       "         [60.],\n",
       "         [61.],\n",
       "         [62.],\n",
       "         [63.],\n",
       "         [64.],\n",
       "         [65.],\n",
       "         [66.],\n",
       "         [67.],\n",
       "         [68.],\n",
       "         [69.],\n",
       "         [70.],\n",
       "         [71.],\n",
       "         [72.],\n",
       "         [73.],\n",
       "         [74.],\n",
       "         [75.],\n",
       "         [76.],\n",
       "         [77.],\n",
       "         [78.],\n",
       "         [79.],\n",
       "         [80.],\n",
       "         [81.],\n",
       "         [82.],\n",
       "         [83.],\n",
       "         [84.],\n",
       "         [85.],\n",
       "         [86.],\n",
       "         [87.],\n",
       "         [88.],\n",
       "         [89.],\n",
       "         [90.],\n",
       "         [91.],\n",
       "         [92.],\n",
       "         [93.],\n",
       "         [94.],\n",
       "         [95.],\n",
       "         [96.],\n",
       "         [97.],\n",
       "         [98.],\n",
       "         [99.]]),\n",
       " tensor([[  1.],\n",
       "         [  3.],\n",
       "         [  5.],\n",
       "         [  7.],\n",
       "         [  9.],\n",
       "         [ 11.],\n",
       "         [ 13.],\n",
       "         [ 15.],\n",
       "         [ 17.],\n",
       "         [ 19.],\n",
       "         [ 21.],\n",
       "         [ 23.],\n",
       "         [ 25.],\n",
       "         [ 27.],\n",
       "         [ 29.],\n",
       "         [ 31.],\n",
       "         [ 33.],\n",
       "         [ 35.],\n",
       "         [ 37.],\n",
       "         [ 39.],\n",
       "         [ 41.],\n",
       "         [ 43.],\n",
       "         [ 45.],\n",
       "         [ 47.],\n",
       "         [ 49.],\n",
       "         [ 51.],\n",
       "         [ 53.],\n",
       "         [ 55.],\n",
       "         [ 57.],\n",
       "         [ 59.],\n",
       "         [ 61.],\n",
       "         [ 63.],\n",
       "         [ 65.],\n",
       "         [ 67.],\n",
       "         [ 69.],\n",
       "         [ 71.],\n",
       "         [ 73.],\n",
       "         [ 75.],\n",
       "         [ 77.],\n",
       "         [ 79.],\n",
       "         [ 81.],\n",
       "         [ 83.],\n",
       "         [ 85.],\n",
       "         [ 87.],\n",
       "         [ 89.],\n",
       "         [ 91.],\n",
       "         [ 93.],\n",
       "         [ 95.],\n",
       "         [ 97.],\n",
       "         [ 99.],\n",
       "         [101.],\n",
       "         [103.],\n",
       "         [105.],\n",
       "         [107.],\n",
       "         [109.],\n",
       "         [111.],\n",
       "         [113.],\n",
       "         [115.],\n",
       "         [117.],\n",
       "         [119.],\n",
       "         [121.],\n",
       "         [123.],\n",
       "         [125.],\n",
       "         [127.],\n",
       "         [129.],\n",
       "         [131.],\n",
       "         [133.],\n",
       "         [135.],\n",
       "         [137.],\n",
       "         [139.],\n",
       "         [141.],\n",
       "         [143.],\n",
       "         [145.],\n",
       "         [147.],\n",
       "         [149.],\n",
       "         [151.],\n",
       "         [153.],\n",
       "         [155.],\n",
       "         [157.],\n",
       "         [159.],\n",
       "         [161.],\n",
       "         [163.],\n",
       "         [165.],\n",
       "         [167.],\n",
       "         [169.],\n",
       "         [171.],\n",
       "         [173.],\n",
       "         [175.],\n",
       "         [177.],\n",
       "         [179.],\n",
       "         [181.],\n",
       "         [183.],\n",
       "         [185.],\n",
       "         [187.],\n",
       "         [189.],\n",
       "         [191.],\n",
       "         [193.],\n",
       "         [195.],\n",
       "         [197.],\n",
       "         [199.]]))"
      ]
     },
     "execution_count": 249,
     "metadata": {},
     "output_type": "execute_result"
    }
   ],
   "source": [
    "x = t.arange(0,100,dtype=t.float32).unsqueeze(1)\n",
    "y = 2*x\n",
    "\n",
    "x,y"
   ]
  },
  {
   "attachments": {},
   "cell_type": "markdown",
   "metadata": {},
   "source": [
    "4. 优化器"
   ]
  },
  {
   "cell_type": "code",
   "execution_count": 250,
   "metadata": {},
   "outputs": [],
   "source": [
    "optimizer = t.optim.SGD(net.parameters(),lr=0.0001)"
   ]
  },
  {
   "attachments": {},
   "cell_type": "markdown",
   "metadata": {},
   "source": [
    "手动梯度计算，对于每个样本计算梯度，然后就计算这些样本的平均"
   ]
  },
  {
   "cell_type": "code",
   "execution_count": 254,
   "metadata": {},
   "outputs": [],
   "source": [
    "\n",
    "def grad(x,y,y_hat):\n",
    "    gradient = 2* (y_hat-y)*x\n",
    "    return gradient.mean()\n",
    "    "
   ]
  },
  {
   "attachments": {},
   "cell_type": "markdown",
   "metadata": {},
   "source": [
    "5. 训练流程"
   ]
  },
  {
   "cell_type": "code",
   "execution_count": 257,
   "metadata": {},
   "outputs": [
    {
     "name": "stdout",
     "output_type": "stream",
     "text": [
      "1.0 tensor([[-6644.1279]]) tensor(-6644.1289, grad_fn=<MeanBackward0>)\n",
      "1.6644127368927002 tensor([[-2279.9346]]) tensor(-2279.9351, grad_fn=<MeanBackward0>)\n",
      "1.8924062252044678 tensor([[-782.3575]]) tensor(-782.3574, grad_fn=<MeanBackward0>)\n",
      "1.9706419706344604 tensor([[-268.4630]]) tensor(-268.4630, grad_fn=<MeanBackward0>)\n",
      "1.997488260269165 tensor([[-92.1192]]) tensor(-92.1192, grad_fn=<MeanBackward0>)\n",
      "2.006700277328491 tensor([[-31.6059]]) tensor(-31.6058, grad_fn=<MeanBackward0>)\n",
      "2.0098607540130615 tensor([[-10.8422]]) tensor(-10.8422, grad_fn=<MeanBackward0>)\n",
      "2.0109450817108154 tensor([[-3.7166]]) tensor(-3.7166, grad_fn=<MeanBackward0>)\n",
      "2.0113167762756348 tensor([[-1.2712]]) tensor(-1.2712, grad_fn=<MeanBackward0>)\n",
      "2.011443853378296 tensor([[-0.4322]]) tensor(-0.4322, grad_fn=<MeanBackward0>)\n"
     ]
    }
   ],
   "source": [
    "net.weight.data.fill_(1)\n",
    "for ep in range(10):\n",
    "    optimizer.zero_grad()\n",
    "    \n",
    "    y_hat =net.forward(x)\n",
    "    \n",
    "    loss = ((y_hat-y)**2).mean()\n",
    "    \n",
    "    loss.backward()\n",
    "    print(net.weight.data.item(),net.weight.grad,grad(x,y,y_hat))\n",
    "    optimizer.step()\n",
    "    \n",
    "    #print(loss.item())"
   ]
  },
  {
   "attachments": {},
   "cell_type": "markdown",
   "metadata": {},
   "source": [
    "我们看到，手写的跟框架算的东西是一样的"
   ]
  }
 ],
 "metadata": {
  "kernelspec": {
   "display_name": "pytorch",
   "language": "python",
   "name": "python3"
  },
  "language_info": {
   "codemirror_mode": {
    "name": "ipython",
    "version": 3
   },
   "file_extension": ".py",
   "mimetype": "text/x-python",
   "name": "python",
   "nbconvert_exporter": "python",
   "pygments_lexer": "ipython3",
   "version": "3.9.13"
  },
  "orig_nbformat": 4
 },
 "nbformat": 4,
 "nbformat_minor": 2
}
